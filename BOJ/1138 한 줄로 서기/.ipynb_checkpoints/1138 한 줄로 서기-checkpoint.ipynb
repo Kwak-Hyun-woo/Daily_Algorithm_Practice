{
 "cells": [
  {
   "cell_type": "code",
   "execution_count": 31,
   "metadata": {},
   "outputs": [
    {
     "name": "stdout",
     "output_type": "stream",
     "text": [
      "4\n"
     ]
    }
   ],
   "source": [
    "num = int(input())\n",
    "\n",
    "lefts = list(map(int, input().split()))\n",
    "\n",
    "result = [0] * num\n",
    "\n",
    "for i in range(num):    # 키 순서\n",
    "    left = lefts[i]\n",
    "    for j in range(num): # 첫번째 ~ num 번째\n",
    "        if (left == 0 and result[j] == 0):  \n",
    "            result[j] = i + 1\n",
    "            break\n",
    "        elif (result[j] == 0): # 자리 비어있을 때만 left 하나씩 감소\n",
    "            left -= 1\n",
    "                               # 자리에 누가 있을 때는 다음 위치로 이동\n",
    "\n",
    "for i in range(num):\n",
    "    print(result[i], end = ' ')"
   ]
  }
 ],
 "metadata": {
  "kernelspec": {
   "display_name": "Python 3",
   "language": "python",
   "name": "python3"
  },
  "language_info": {
   "codemirror_mode": {
    "name": "ipython",
    "version": 3
   },
   "file_extension": ".py",
   "mimetype": "text/x-python",
   "name": "python",
   "nbconvert_exporter": "python",
   "pygments_lexer": "ipython3",
   "version": "3.7.6"
  }
 },
 "nbformat": 4,
 "nbformat_minor": 4
}
