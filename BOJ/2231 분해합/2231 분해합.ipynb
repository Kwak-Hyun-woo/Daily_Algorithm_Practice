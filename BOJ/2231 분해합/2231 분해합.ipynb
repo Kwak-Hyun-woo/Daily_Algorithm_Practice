{
 "cells": [
  {
   "cell_type": "code",
   "execution_count": 1,
   "metadata": {},
   "outputs": [
    {
     "name": "stdout",
     "output_type": "stream",
     "text": [
      "216\n"
     ]
    }
   ],
   "source": [
    "num = int(input())\n",
    "\n",
    "result = 0\n",
    "result = list()\n",
    "for i in range(1, num):\n",
    "    temp = i  \n",
    "    for j in str(i):\n",
    "        temp += int(j)\n",
    "    if num == temp:\n",
    "        result.append(i)\n",
    "\n",
    "if len(result) != 0:\n",
    "    final = min(result)\n",
    "else:\n",
    "    final = 0\n",
    "            \n",
    "print(final)"
   ]
  },
  {
   "cell_type": "code",
   "execution_count": null,
   "metadata": {},
   "outputs": [],
   "source": []
  }
 ],
 "metadata": {
  "kernelspec": {
   "display_name": "Python 3",
   "language": "python",
   "name": "python3"
  },
  "language_info": {
   "codemirror_mode": {
    "name": "ipython",
    "version": 3
   },
   "file_extension": ".py",
   "mimetype": "text/x-python",
   "name": "python",
   "nbconvert_exporter": "python",
   "pygments_lexer": "ipython3",
   "version": "3.7.6"
  }
 },
 "nbformat": 4,
 "nbformat_minor": 4
}
