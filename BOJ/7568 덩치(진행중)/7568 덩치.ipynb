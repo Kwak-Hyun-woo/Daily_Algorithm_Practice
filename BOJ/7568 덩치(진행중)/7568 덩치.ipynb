{
 "cells": [
  {
   "cell_type": "code",
   "execution_count": 1,
   "metadata": {},
   "outputs": [
    {
     "name": "stdout",
     "output_type": "stream",
     "text": [
      "5\n",
      "1 1\n",
      "1 1\n",
      "1 1\n",
      "1 1\n",
      "1 1\n",
      "1 "
     ]
    }
   ],
   "source": [
    "n = int(input())\n",
    "\n",
    "people = list\n",
    "for i in range(n):\n",
    "    people.append(list(map(int, input().split()))) = 1\n",
    "\n",
    "for i in people:\n",
    "    weight = i[0]\n",
    "    height = i[1]\n",
    "    for j in people:\n",
    "        if weight < j[0] and height < j[1]:\n",
    "            people[(weight, height)] += 1\n",
    "    \n",
    "for i in people:\n",
    "    print(people[i], end = ' ')"
   ]
  }
 ],
 "metadata": {
  "kernelspec": {
   "display_name": "Python 3",
   "language": "python",
   "name": "python3"
  },
  "language_info": {
   "codemirror_mode": {
    "name": "ipython",
    "version": 3
   },
   "file_extension": ".py",
   "mimetype": "text/x-python",
   "name": "python",
   "nbconvert_exporter": "python",
   "pygments_lexer": "ipython3",
   "version": "3.7.6"
  }
 },
 "nbformat": 4,
 "nbformat_minor": 4
}
