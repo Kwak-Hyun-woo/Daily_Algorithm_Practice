{
 "cells": [
  {
   "cell_type": "code",
   "execution_count": 11,
   "metadata": {},
   "outputs": [
    {
     "name": "stdout",
     "output_type": "stream",
     "text": [
      "3 5\n"
     ]
    }
   ],
   "source": [
    "# brute force 탐색\n",
    "n, m = map(int, input().split())\n",
    "\n",
    "rect = []\n",
    "for i in range(n):\n",
    "    rect.append(list(map(int, input())))\n",
    "rect\n",
    "\n",
    "MAX = min (n, m)\n",
    "square_max = 0\n",
    "\n",
    "for i in range(n):\n",
    "    for j in range(m):\n",
    "        for k in range(MAX):\n",
    "            if (i + k < n and j + k < m):\n",
    "                if (rect[i][j] == rect[i+ k][j] and rect[i][j] == rect[i][j + k] and rect[i][j] == rect[i + k][j + k]):\n",
    "                    if square_max < k:\n",
    "                        square_max = k\n",
    "\n",
    "print((square_max + 1) **2)"
   ]
  },
  {
   "cell_type": "code",
   "execution_count": null,
   "metadata": {},
   "outputs": [],
   "source": []
  }
 ],
 "metadata": {
  "kernelspec": {
   "display_name": "Python 3",
   "language": "python",
   "name": "python3"
  },
  "language_info": {
   "codemirror_mode": {
    "name": "ipython",
    "version": 3
   },
   "file_extension": ".py",
   "mimetype": "text/x-python",
   "name": "python",
   "nbconvert_exporter": "python",
   "pygments_lexer": "ipython3",
   "version": "3.7.6"
  }
 },
 "nbformat": 4,
 "nbformat_minor": 4
}
