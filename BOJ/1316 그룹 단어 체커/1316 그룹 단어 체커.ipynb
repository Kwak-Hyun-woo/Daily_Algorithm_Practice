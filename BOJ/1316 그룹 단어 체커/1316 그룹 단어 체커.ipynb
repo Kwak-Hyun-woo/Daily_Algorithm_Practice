{
 "cells": [
  {
   "cell_type": "code",
   "execution_count": null,
   "metadata": {},
   "outputs": [],
   "source": [
    "n = int(input())\n",
    "\n",
    "result = n\n",
    "for i in range(n):\n",
    "    check = input()\n",
    "    checked_alphabets = []\n",
    "    prev = check[0]\n",
    "\n",
    "    for j in check:\n",
    "        if prev != j and j in checked_alphabets:\n",
    "            result -= 1\n",
    "            break\n",
    "        if j not in checked_alphabets:\n",
    "            checked_alphabets.append(j)\n",
    "        prev = j\n",
    "print(result)"
   ]
  },
  {
   "cell_type": "code",
   "execution_count": null,
   "metadata": {},
   "outputs": [],
   "source": []
  }
 ],
 "metadata": {
  "kernelspec": {
   "display_name": "Python 3",
   "language": "python",
   "name": "python3"
  },
  "language_info": {
   "codemirror_mode": {
    "name": "ipython",
    "version": 3
   },
   "file_extension": ".py",
   "mimetype": "text/x-python",
   "name": "python",
   "nbconvert_exporter": "python",
   "pygments_lexer": "ipython3",
   "version": "3.7.6"
  }
 },
 "nbformat": 4,
 "nbformat_minor": 4
}
