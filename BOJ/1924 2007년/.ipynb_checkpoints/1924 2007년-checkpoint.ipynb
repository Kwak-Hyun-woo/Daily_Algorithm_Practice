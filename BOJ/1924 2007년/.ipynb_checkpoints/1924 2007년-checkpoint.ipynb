{
 "cells": [
  {
   "cell_type": "code",
   "execution_count": 9,
   "metadata": {},
   "outputs": [
    {
     "name": "stdout",
     "output_type": "stream",
     "text": [
      "12 25\n"
     ]
    }
   ],
   "source": [
    "month, day  = map(int, input().split())\n",
    "\n",
    "total_dates = day\n",
    "for i in range(1, month):\n",
    "    if i == 1 or i == 3 or i == 5 or i == 7 or i == 8 or i == 10 or i == 12:\n",
    "        total_dates += 31\n",
    "    elif i == 2:\n",
    "        total_dates += 28\n",
    "    else:\n",
    "        total_dates += 30\n",
    "    \n",
    "if total_dates % 7 == 0:\n",
    "    print(\"SUN\")\n",
    "elif total_dates % 7 == 1:\n",
    "    print(\"MON\")\n",
    "elif total_dates % 7 == 2:\n",
    "    print(\"TUE\")\n",
    "elif total_dates % 7 == 3:\n",
    "    print(\"WED\")\n",
    "elif total_dates % 7 == 4:\n",
    "    print(\"THU\")\n",
    "elif total_dates % 7 == 5:\n",
    "    print(\"FRI\")\n",
    "else:\n",
    "    print(\"SAT\")\n"
   ]
  },
  {
   "cell_type": "code",
   "execution_count": null,
   "metadata": {},
   "outputs": [],
   "source": []
  }
 ],
 "metadata": {
  "kernelspec": {
   "display_name": "Python 3",
   "language": "python",
   "name": "python3"
  },
  "language_info": {
   "codemirror_mode": {
    "name": "ipython",
    "version": 3
   },
   "file_extension": ".py",
   "mimetype": "text/x-python",
   "name": "python",
   "nbconvert_exporter": "python",
   "pygments_lexer": "ipython3",
   "version": "3.7.6"
  }
 },
 "nbformat": 4,
 "nbformat_minor": 4
}
