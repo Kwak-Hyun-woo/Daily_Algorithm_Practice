{
 "cells": [
  {
   "cell_type": "code",
   "execution_count": 17,
   "metadata": {},
   "outputs": [
    {
     "name": "stdout",
     "output_type": "stream",
     "text": [
      "10 500\n",
      "93 181 245 214 315 36 185 138 216 295\n",
      "497\n"
     ]
    }
   ],
   "source": [
    "n, m = map(int, input().split())\n",
    "\n",
    "nums = list(map(int, input().split() ))\n",
    "\n",
    "nums\n",
    "\n",
    "differ = 100000\n",
    "result = 0\n",
    "for i in range(len(nums) - 2):\n",
    "    for j in range(i + 1, len(nums) - 1):\n",
    "        for k in range(j + 1, len(nums)):\n",
    "            sum = nums[i] + nums[j] + nums[k] \n",
    "            if sum <= m:\n",
    "                if abs(sum - m) < differ :\n",
    "                    differ = abs(sum - m)\n",
    "                    result = sum\n",
    "print(result)        "
   ]
  },
  {
   "cell_type": "code",
   "execution_count": null,
   "metadata": {},
   "outputs": [],
   "source": []
  }
 ],
 "metadata": {
  "kernelspec": {
   "display_name": "Python 3",
   "language": "python",
   "name": "python3"
  },
  "language_info": {
   "codemirror_mode": {
    "name": "ipython",
    "version": 3
   },
   "file_extension": ".py",
   "mimetype": "text/x-python",
   "name": "python",
   "nbconvert_exporter": "python",
   "pygments_lexer": "ipython3",
   "version": "3.7.6"
  }
 },
 "nbformat": 4,
 "nbformat_minor": 4
}
